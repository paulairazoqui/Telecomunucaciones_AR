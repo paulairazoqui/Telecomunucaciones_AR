{
 "cells": [
  {
   "cell_type": "markdown",
   "metadata": {},
   "source": [
    "Este archivo tiene como objetivo poder ver la información de cada tabla para poder cargarlas en MySQL"
   ]
  },
  {
   "cell_type": "code",
   "execution_count": 1,
   "metadata": {},
   "outputs": [],
   "source": [
    "import pandas as pd #type: ignore"
   ]
  },
  {
   "cell_type": "code",
   "execution_count": 2,
   "metadata": {},
   "outputs": [
    {
     "name": "stdout",
     "output_type": "stream",
     "text": [
      "La ruta del archivo es: ..\\Datasets procesados\\acc_tec_localidad_limpio.csv\n",
      "<class 'pandas.core.frame.DataFrame'>\n",
      "RangeIndex: 165 entries, 0 to 164\n",
      "Data columns (total 3 columns):\n",
      " #   Column      Non-Null Count  Dtype  \n",
      "---  ------      --------------  -----  \n",
      " 0   Provincia   165 non-null    object \n",
      " 1   Tecnologia  165 non-null    object \n",
      " 2   Accesos     165 non-null    float64\n",
      "dtypes: float64(1), object(2)\n",
      "memory usage: 4.0+ KB\n",
      "\n",
      "None\n"
     ]
    }
   ],
   "source": [
    "ruta = r'..\\Datasets procesados\\acc_tec_localidad_limpio.csv'\n",
    "acc_tec_localidad_limpio = pd.read_csv(ruta, sep=',')\n",
    "\n",
    "print(f'La ruta del archivo es: {ruta}')\n",
    "print(f'\\n{acc_tec_localidad_limpio.info()}')"
   ]
  },
  {
   "cell_type": "code",
   "execution_count": 3,
   "metadata": {},
   "outputs": [
    {
     "name": "stdout",
     "output_type": "stream",
     "text": [
      "La ruta del archivo es: ..\\Datasets procesados\\fecha.csv\n",
      "<class 'pandas.core.frame.DataFrame'>\n",
      "RangeIndex: 44 entries, 0 to 43\n",
      "Data columns (total 3 columns):\n",
      " #   Column     Non-Null Count  Dtype\n",
      "---  ------     --------------  -----\n",
      " 0   Año        44 non-null     int64\n",
      " 1   Trimestre  44 non-null     int64\n",
      " 2   id_fecha   44 non-null     int64\n",
      "dtypes: int64(3)\n",
      "memory usage: 1.2 KB\n",
      "\n",
      "None\n"
     ]
    }
   ],
   "source": [
    "ruta = r'..\\Datasets procesados\\fecha.csv'\n",
    "fecha = pd.read_csv(ruta, sep=',')\n",
    "\n",
    "print(f'La ruta del archivo es: {ruta}')\n",
    "print(f'\\n{fecha.info()}')"
   ]
  },
  {
   "cell_type": "code",
   "execution_count": 4,
   "metadata": {},
   "outputs": [
    {
     "name": "stdout",
     "output_type": "stream",
     "text": [
      "La ruta del archivo es: ..\\Datasets procesados\\internet_accesos.csv\n",
      "<class 'pandas.core.frame.DataFrame'>\n",
      "RangeIndex: 1007 entries, 0 to 1006\n",
      "Data columns (total 13 columns):\n",
      " #   Column                  Non-Null Count  Dtype  \n",
      "---  ------                  --------------  -----  \n",
      " 0   Año                     1007 non-null   int64  \n",
      " 1   Trimestre               1007 non-null   int64  \n",
      " 2   Provincia               1007 non-null   object \n",
      " 3   Mbps (Media de bajada)  1007 non-null   float64\n",
      " 4   ADSL                    1007 non-null   float64\n",
      " 5   Cablemodem              1007 non-null   float64\n",
      " 6   Fibra óptica            1007 non-null   float64\n",
      " 7   Wireless                1007 non-null   float64\n",
      " 8   Otros                   1007 non-null   float64\n",
      " 9   Total_x                 1007 non-null   float64\n",
      " 10  Banda ancha fija        1007 non-null   int64  \n",
      " 11  Dial up                 1007 non-null   float64\n",
      " 12  Total_y                 1007 non-null   int64  \n",
      "dtypes: float64(8), int64(4), object(1)\n",
      "memory usage: 102.4+ KB\n",
      "\n",
      "None\n"
     ]
    }
   ],
   "source": [
    "ruta = r'..\\Datasets procesados\\internet_accesos.csv'\n",
    "internet_accesos = pd.read_csv(ruta, sep=',')\n",
    "\n",
    "print(f'La ruta del archivo es: {ruta}')\n",
    "print(f'\\n{internet_accesos.info()}')"
   ]
  },
  {
   "cell_type": "code",
   "execution_count": 5,
   "metadata": {},
   "outputs": [
    {
     "name": "stdout",
     "output_type": "stream",
     "text": [
      "La ruta del archivo es: ..\\Datasets procesados\\internet_penetracion.csv\n",
      "<class 'pandas.core.frame.DataFrame'>\n",
      "RangeIndex: 784 entries, 0 to 783\n",
      "Data columns (total 14 columns):\n",
      " #   Column                        Non-Null Count  Dtype  \n",
      "---  ------                        --------------  -----  \n",
      " 0   Año                           784 non-null    int64  \n",
      " 1   Trimestre                     784 non-null    int64  \n",
      " 2   Provincia                     784 non-null    object \n",
      " 3   Accesos por cada 100 hab      784 non-null    float64\n",
      " 4   Accesos por cada 100 hogares  784 non-null    float64\n",
      " 5   HASTA 512 kbps                784 non-null    float64\n",
      " 6   + 512 Kbps - 1 Mbps           784 non-null    float64\n",
      " 7   + 1 Mbps - 6 Mbps             784 non-null    float64\n",
      " 8   + 6 Mbps - 10 Mbps            784 non-null    float64\n",
      " 9   + 10 Mbps - 20 Mbps           784 non-null    float64\n",
      " 10  + 20 Mbps - 30 Mbps           784 non-null    float64\n",
      " 11  + 30 Mbps                     784 non-null    float64\n",
      " 12  OTROS                         784 non-null    float64\n",
      " 13  Total                         784 non-null    float64\n",
      "dtypes: float64(11), int64(2), object(1)\n",
      "memory usage: 85.9+ KB\n",
      "\n",
      "None\n"
     ]
    }
   ],
   "source": [
    "ruta = r'..\\Datasets procesados\\internet_penetracion.csv'\n",
    "internet_penetracion = pd.read_csv(ruta, sep=',')\n",
    "\n",
    "print(f'La ruta del archivo es: {ruta}')\n",
    "print(f'\\n{internet_penetracion.info()}')"
   ]
  },
  {
   "cell_type": "code",
   "execution_count": 6,
   "metadata": {},
   "outputs": [
    {
     "name": "stdout",
     "output_type": "stream",
     "text": [
      "La ruta del archivo es: ..\\Datasets procesados\\provincia.csv\n",
      "<class 'pandas.core.frame.DataFrame'>\n",
      "RangeIndex: 24 entries, 0 to 23\n",
      "Data columns (total 10 columns):\n",
      " #   Column          Non-Null Count  Dtype  \n",
      "---  ------          --------------  -----  \n",
      " 0   Pais            24 non-null     object \n",
      " 1   Nombre          24 non-null     object \n",
      " 2   Superficie      24 non-null     int64  \n",
      " 3   Hogares         24 non-null     float64\n",
      " 4   Poblacion 2010  24 non-null     float64\n",
      " 5   Poblacion 2022  24 non-null     float64\n",
      " 6   Latitud         24 non-null     float64\n",
      " 7   Longitud        24 non-null     float64\n",
      " 8   Ingresos        24 non-null     float64\n",
      " 9   id_provincia    24 non-null     int64  \n",
      "dtypes: float64(6), int64(2), object(2)\n",
      "memory usage: 2.0+ KB\n",
      "\n",
      "None\n"
     ]
    }
   ],
   "source": [
    "ruta = r'..\\Datasets procesados\\provincia.csv'\n",
    "provincia = pd.read_csv(ruta, sep=',')\n",
    "\n",
    "print(f'La ruta del archivo es: {ruta}')\n",
    "print(f'\\n{provincia.info()}')"
   ]
  },
  {
   "cell_type": "code",
   "execution_count": 7,
   "metadata": {},
   "outputs": [
    {
     "name": "stdout",
     "output_type": "stream",
     "text": [
      "La ruta del archivo es: ..\\Datasets procesados\\totales_acc_tec_limpio.csv\n",
      "<class 'pandas.core.frame.DataFrame'>\n",
      "RangeIndex: 42 entries, 0 to 41\n",
      "Data columns (total 8 columns):\n",
      " #   Column        Non-Null Count  Dtype\n",
      "---  ------        --------------  -----\n",
      " 0   Año           42 non-null     int64\n",
      " 1   Trimestre     42 non-null     int64\n",
      " 2   ADSL          42 non-null     int64\n",
      " 3   Cablemodem    42 non-null     int64\n",
      " 4   Fibra óptica  42 non-null     int64\n",
      " 5   Wireless      42 non-null     int64\n",
      " 6   Otros         42 non-null     int64\n",
      " 7   Total         42 non-null     int64\n",
      "dtypes: int64(8)\n",
      "memory usage: 2.8 KB\n",
      "\n",
      "None\n"
     ]
    }
   ],
   "source": [
    "ruta = r'..\\Datasets procesados\\totales_acc_tec_limpio.csv'\n",
    "totales_acc_tec_limpio = pd.read_csv(ruta, sep=',')\n",
    "\n",
    "print(f'La ruta del archivo es: {ruta}')\n",
    "print(f'\\n{totales_acc_tec_limpio.info()}')"
   ]
  }
 ],
 "metadata": {
  "kernelspec": {
   "display_name": "Python 3",
   "language": "python",
   "name": "python3"
  },
  "language_info": {
   "codemirror_mode": {
    "name": "ipython",
    "version": 3
   },
   "file_extension": ".py",
   "mimetype": "text/x-python",
   "name": "python",
   "nbconvert_exporter": "python",
   "pygments_lexer": "ipython3",
   "version": "3.13.1"
  }
 },
 "nbformat": 4,
 "nbformat_minor": 2
}
